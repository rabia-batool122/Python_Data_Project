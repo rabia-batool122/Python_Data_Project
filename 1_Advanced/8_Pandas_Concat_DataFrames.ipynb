{
 "cells": [
  {
   "cell_type": "code",
   "execution_count": null,
   "id": "1804f40b",
   "metadata": {},
   "outputs": [],
   "source": [
    "# Importing Libraries\n",
    "import pandas as pd\n",
    "from datasets import load_dataset\n",
    "import matplotlib.pyplot as plt\n",
    "\n",
    "# Loading Data\n",
    "dataset = load_dataset('lukebarousse/data_jobs')\n",
    "df = dataset['train'].to_pandas()\n",
    "\n",
    "# Data Cleanup\n",
    "df['job_posted_date'] = pd.to_datetime(df['job_posted_date'])"
   ]
  },
  {
   "cell_type": "code",
   "execution_count": null,
   "id": "a1b3af71",
   "metadata": {},
   "outputs": [],
   "source": [
    "df['job_posted_month'] = df['job_posted_date'].dt.strftime('%b')"
   ]
  },
  {
   "cell_type": "code",
   "execution_count": null,
   "id": "4747d572",
   "metadata": {},
   "outputs": [],
   "source": [
    "# dict_months = {\n",
    "#     'Jan': df_jan,\n",
    "#     'Feb': df_feb,\n",
    "#     'Mar': df_mar,\n",
    "#     'Apr': df_apr,\n",
    "#     'May': df_may,\n",
    "#     'Jun': df_jun,\n",
    "#     'Jul': df_jul,\n",
    "#     'Aug': df_aug,\n",
    "#     'Sep': df_sep,\n",
    "#     'Oct': df_oct,\n",
    "#     'Nov': df_nov,\n",
    "#     'Dec': df_dec\n",
    "# }\n",
    "\n",
    "months = df['job_posted_month'].unique()\n",
    "\n",
    "dict_months = {month: df[df['job_posted_month'] == month] for month in months}\n",
    "\n",
    "dict_months['Apr']"
   ]
  },
  {
   "cell_type": "code",
   "execution_count": null,
   "id": "e6ac7405",
   "metadata": {},
   "outputs": [],
   "source": [
    "df_q1 = pd.concat([dict_months['Jan'], dict_months['Feb'], dict_months['Mar']], ignore_index=True)"
   ]
  },
  {
   "cell_type": "code",
   "execution_count": null,
   "id": "e1d53237",
   "metadata": {},
   "outputs": [],
   "source": [
    "df_q1['job_posted_month'].value_counts().plot(kind='bar')"
   ]
  },
  {
   "cell_type": "code",
   "execution_count": null,
   "id": "f04188c2",
   "metadata": {},
   "outputs": [],
   "source": []
  }
 ],
 "metadata": {
  "kernelspec": {
   "display_name": "python_course",
   "language": "python",
   "name": "python3"
  },
  "language_info": {
   "codemirror_mode": {
    "name": "ipython",
    "version": 3
   },
   "file_extension": ".py",
   "mimetype": "text/x-python",
   "name": "python",
   "nbconvert_exporter": "python",
   "pygments_lexer": "ipython3",
   "version": "3.13.5"
  }
 },
 "nbformat": 4,
 "nbformat_minor": 5
}
